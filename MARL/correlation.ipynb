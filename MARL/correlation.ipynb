{
 "cells": [
  {
   "cell_type": "markdown",
   "metadata": {},
   "source": [
    "# Load Data"
   ]
  },
  {
   "cell_type": "code",
   "execution_count": 7,
   "metadata": {},
   "outputs": [],
   "source": [
    "import os\n",
    "import tensorflow as tf\n",
    "from tensorflow.core.util import event_pb2\n",
    "import glob\n",
    "import numpy as np\n",
    "import pandas as pd\n",
    "from scipy.stats import f_oneway, pearsonr\n",
    "from scipy.special import rel_entr\n",
    "import seaborn as sns\n",
    "import matplotlib.pyplot as plt\n",
    "import warnings\n",
    "warnings.filterwarnings('ignore')\n",
    "\n",
    "figsize=(15,10)\n",
    "fontsize = 45\n",
    "export_dir = './plots_bar/'\n",
    "load_dir = './data_tournament/'\n",
    "filetype = 'pdf'\n",
    "\n",
    "env_name = 'prisoners_dilemma'\n",
    "row_name = ['S', 'M', 'L', 'O']\n",
    "col_name = ['SP5', 'PP3', 'PP5']\n",
    "\n",
    "row_name_dict = {'S': 'Small',\n",
    "                 'M': 'Medium',\n",
    "                 'L': 'Large',\n",
    "                 'O': 'Obstacle'}\n",
    "\n",
    "col_name_dict = {'SP5': 'SP 5 Seeds',\n",
    "                 'PP3': 'PP 3 Seeds',\n",
    "                 'PP5': 'PP 5 Seeds',\n",
    "                 'FCP3': 'FCP 3 Seeds',\n",
    "                 'FCP5': 'FCP 5 Seeds'}\n",
    "\n",
    "sns.set()\n",
    "sns.set_context(\"paper\")\n",
    "sns.set(rc={'figure.figsize':figsize})\n",
    "sns.set_style(\"whitegrid\")\n",
    "palette = [\"#f8ac8c\", \"#9ac9db\", \"#2878b5\"]"
   ]
  },
  {
   "cell_type": "markdown",
   "metadata": {},
   "source": [
    "# Tournament DF"
   ]
  },
  {
   "cell_type": "code",
   "execution_count": 8,
   "metadata": {},
   "outputs": [
    {
     "data": {
      "text/html": [
       "<div>\n",
       "<style scoped>\n",
       "    .dataframe tbody tr th:only-of-type {\n",
       "        vertical-align: middle;\n",
       "    }\n",
       "\n",
       "    .dataframe tbody tr th {\n",
       "        vertical-align: top;\n",
       "    }\n",
       "\n",
       "    .dataframe thead th {\n",
       "        text-align: right;\n",
       "    }\n",
       "</style>\n",
       "<table border=\"1\" class=\"dataframe\">\n",
       "  <thead>\n",
       "    <tr style=\"text-align: right;\">\n",
       "      <th></th>\n",
       "      <th>rewards</th>\n",
       "      <th>config</th>\n",
       "      <th>method</th>\n",
       "    </tr>\n",
       "  </thead>\n",
       "  <tbody>\n",
       "    <tr>\n",
       "      <th>0</th>\n",
       "      <td>59.381732</td>\n",
       "      <td>Small</td>\n",
       "      <td>SP 5 Seeds</td>\n",
       "    </tr>\n",
       "    <tr>\n",
       "      <th>1</th>\n",
       "      <td>64.212515</td>\n",
       "      <td>Small</td>\n",
       "      <td>SP 5 Seeds</td>\n",
       "    </tr>\n",
       "    <tr>\n",
       "      <th>2</th>\n",
       "      <td>59.201329</td>\n",
       "      <td>Small</td>\n",
       "      <td>SP 5 Seeds</td>\n",
       "    </tr>\n",
       "    <tr>\n",
       "      <th>3</th>\n",
       "      <td>60.340010</td>\n",
       "      <td>Small</td>\n",
       "      <td>SP 5 Seeds</td>\n",
       "    </tr>\n",
       "    <tr>\n",
       "      <th>4</th>\n",
       "      <td>59.259974</td>\n",
       "      <td>Small</td>\n",
       "      <td>SP 5 Seeds</td>\n",
       "    </tr>\n",
       "    <tr>\n",
       "      <th>...</th>\n",
       "      <td>...</td>\n",
       "      <td>...</td>\n",
       "      <td>...</td>\n",
       "    </tr>\n",
       "    <tr>\n",
       "      <th>715</th>\n",
       "      <td>52.268217</td>\n",
       "      <td>Obstacle</td>\n",
       "      <td>PP 5 Seeds</td>\n",
       "    </tr>\n",
       "    <tr>\n",
       "      <th>716</th>\n",
       "      <td>56.331844</td>\n",
       "      <td>Obstacle</td>\n",
       "      <td>PP 5 Seeds</td>\n",
       "    </tr>\n",
       "    <tr>\n",
       "      <th>717</th>\n",
       "      <td>52.823335</td>\n",
       "      <td>Obstacle</td>\n",
       "      <td>PP 5 Seeds</td>\n",
       "    </tr>\n",
       "    <tr>\n",
       "      <th>718</th>\n",
       "      <td>55.843384</td>\n",
       "      <td>Obstacle</td>\n",
       "      <td>PP 5 Seeds</td>\n",
       "    </tr>\n",
       "    <tr>\n",
       "      <th>719</th>\n",
       "      <td>55.896767</td>\n",
       "      <td>Obstacle</td>\n",
       "      <td>PP 5 Seeds</td>\n",
       "    </tr>\n",
       "  </tbody>\n",
       "</table>\n",
       "<p>720 rows × 3 columns</p>\n",
       "</div>"
      ],
      "text/plain": [
       "       rewards    config      method\n",
       "0    59.381732     Small  SP 5 Seeds\n",
       "1    64.212515     Small  SP 5 Seeds\n",
       "2    59.201329     Small  SP 5 Seeds\n",
       "3    60.340010     Small  SP 5 Seeds\n",
       "4    59.259974     Small  SP 5 Seeds\n",
       "..         ...       ...         ...\n",
       "715  52.268217  Obstacle  PP 5 Seeds\n",
       "716  56.331844  Obstacle  PP 5 Seeds\n",
       "717  52.823335  Obstacle  PP 5 Seeds\n",
       "718  55.843384  Obstacle  PP 5 Seeds\n",
       "719  55.896767  Obstacle  PP 5 Seeds\n",
       "\n",
       "[720 rows x 3 columns]"
      ]
     },
     "execution_count": 8,
     "metadata": {},
     "output_type": "execute_result"
    }
   ],
   "source": [
    "rewards = np.empty((len(row_name), len(col_name), 2)) # mean & variance\n",
    "tour_df = pd.DataFrame()\n",
    "for row in np.arange(len(row_name)):\n",
    "    for col in np.arange(len(col_name)):\n",
    "        loaded = np.load(os.path.join(load_dir,env_name+'_'+row_name[row]+'_'+col_name[col]+'.npz'))\n",
    "        # print(np.shape(loaded['rewards']))\n",
    "        current_reward = np.mean(loaded['rewards'], axis=1).flatten()\n",
    "        temp_df = pd.DataFrame({'rewards': current_reward, \n",
    "                                'config': np.repeat(row_name_dict[row_name[row]], len(current_reward)),\n",
    "                                'method': np.repeat(col_name_dict[col_name[col]], len(current_reward))})\n",
    "        tour_df = tour_df._append(temp_df, ignore_index=True)\n",
    "tour_df"
   ]
  },
  {
   "cell_type": "markdown",
   "metadata": {},
   "source": [
    "# P-Value"
   ]
  },
  {
   "cell_type": "code",
   "execution_count": 9,
   "metadata": {},
   "outputs": [
    {
     "name": "stdout",
     "output_type": "stream",
     "text": [
      "Small:  \t F-statistic: 72.48\tp-value: 1.01e-23\n",
      "Medium:  \t F-statistic: 288.7\tp-value: 1.90e-56\n",
      "Large:  \t F-statistic: 75.46\tp-value: 1.99e-24\n",
      "Obstacle:  \t F-statistic: 43.89\tp-value: 3.31e-16\n"
     ]
    }
   ],
   "source": [
    "for row in np.arange(len(row_name)):\n",
    "    F, p = f_oneway(tour_df.loc[(tour_df['method'] == 'SP 5 Seeds') & (tour_df['config'] == row_name_dict[row_name[row]])]['rewards'].to_numpy(),\n",
    "        tour_df.loc[(tour_df['method'] == 'PP 3 Seeds') & (tour_df['config'] == row_name_dict[row_name[row]])]['rewards'].to_numpy(),\n",
    "        tour_df.loc[(tour_df['method'] == 'PP 5 Seeds') & (tour_df['config'] == row_name_dict[row_name[row]])]['rewards'].to_numpy())\n",
    "    print(f'{row_name_dict[row_name[row]]}:  \\t F-statistic: {F:.4}\\tp-value: {p:.2e}')"
   ]
  },
  {
   "cell_type": "markdown",
   "metadata": {},
   "source": [
    "# Index"
   ]
  },
  {
   "cell_type": "code",
   "execution_count": 10,
   "metadata": {},
   "outputs": [
    {
     "name": "stdout",
     "output_type": "stream",
     "text": [
      "./data_index/prisoners_dilemma_S_5M_2.npz Avg: 1.377 +/- 0.11\n",
      "./data_index/prisoners_dilemma_M_5M_2.npz Avg: 1.385 +/- 0.11\n",
      "./data_index/prisoners_dilemma_L_5M_2.npz Avg: 1.180 +/- 0.09\n",
      "./data_index/prisoners_dilemma_O_5M_2.npz Avg: 1.100 +/- 0.12\n",
      "[1.3768534893524849, 1.385400101613565, 1.1799314745893448, 1.0997269286408466]\n"
     ]
    }
   ],
   "source": [
    "env_name_list = [f'{env_name}_{_}' for _ in row_name]\n",
    "load_dir_list = [f'./data_index/{_}_5M_2.npz' for _ in env_name_list]\n",
    "\n",
    "index = []\n",
    "\n",
    "for load_dir in load_dir_list:\n",
    "    loaded = np.load(load_dir)\n",
    "    rewards = loaded['rewards']\n",
    "    checkpoints = loaded['checkpoints']\n",
    "    rewards = rewards[0,...] # only have 1 evaluation seed\n",
    "    mean_rewards = np.mean(rewards,axis=0)\n",
    "    # np.shape(mean_rewards)\n",
    "    index_list = []\n",
    "    for seed in [0,1,2,3,4]:\n",
    "        current_seed_list = []\n",
    "        for eval_gen in range(np.shape(rewards)[0]):\n",
    "            row_rewards = rewards[eval_gen,seed,:,:,0]\n",
    "            col_rewards = rewards[eval_gen,seed,:,:,1]\n",
    "            # start = np.min(row_rewards)\n",
    "            # end = np.max(row_rewards)\n",
    "            start = 0\n",
    "            end = 100\n",
    "            num_bins = 50\n",
    "            # marginal distribution\n",
    "            total_rewards = row_rewards.flatten()\n",
    "            marginal_hist, marginal_bin_edges = np.histogram(total_rewards, bins=num_bins, range=(start, end))\n",
    "            marginal_distribution = marginal_hist / sum(marginal_hist)\n",
    "            # KL divergence\n",
    "            KL_divergence = np.zeros(len(row_rewards))\n",
    "            for i in range(len(row_rewards)):\n",
    "                hist, bin_edges = np.histogram(row_rewards[i], bins=num_bins, range=(start, end))\n",
    "                distribution = hist / sum(hist)\n",
    "                KL_divergence[i] = sum(rel_entr(distribution,marginal_distribution))\n",
    "            # index\n",
    "            cur_index = sum(KL_divergence)/len(KL_divergence)\n",
    "            index_list.append(cur_index)\n",
    "            current_seed_list.append(cur_index\n",
    "    print(f'{load_dir} Avg: {np.mean(index_list):.3f} +/- {np.std(index_list):.2f}')\n",
    "    index.append(np.mean(index_list))\n",
    "print(index)"
   ]
  },
  {
   "cell_type": "markdown",
   "metadata": {},
   "source": [
    "# Difference"
   ]
  },
  {
   "cell_type": "code",
   "execution_count": 11,
   "metadata": {},
   "outputs": [
    {
     "name": "stdout",
     "output_type": "stream",
     "text": [
      "[7.053505236390436, 9.468815777422634, 3.7930557074761815, 3.2388795821923395]\n"
     ]
    }
   ],
   "source": [
    "diff = []\n",
    "for row in np.arange(len(row_name)):\n",
    "    mean_1 = np.mean(tour_df.loc[(tour_df['method'] == 'SP 5 Seeds') & (tour_df['config'] == row_name_dict[row_name[row]])]['rewards'].to_numpy())\n",
    "    mean_2 = np.mean(tour_df.loc[(tour_df['method'] == 'PP 3 Seeds') & (tour_df['config'] == row_name_dict[row_name[row]])]['rewards'].to_numpy())\n",
    "    mean_3 = np.mean(tour_df.loc[(tour_df['method'] == 'PP 5 Seeds') & (tour_df['config'] == row_name_dict[row_name[row]])]['rewards'].to_numpy())\n",
    "    diff.append((mean_3-mean_1)/2)\n",
    "print(diff)"
   ]
  },
  {
   "cell_type": "markdown",
   "metadata": {},
   "source": [
    "# Correlation"
   ]
  },
  {
   "cell_type": "code",
   "execution_count": 12,
   "metadata": {},
   "outputs": [
    {
     "data": {
      "text/plain": [
       "PearsonRResult(statistic=0.9388776522962613, pvalue=0.06112234770373881)"
      ]
     },
     "execution_count": 12,
     "metadata": {},
     "output_type": "execute_result"
    }
   ],
   "source": [
    "res = pearsonr(index, diff)\n",
    "res"
   ]
  }
 ],
 "metadata": {
  "kernelspec": {
   "display_name": "meltingpot",
   "language": "python",
   "name": "python3"
  },
  "language_info": {
   "codemirror_mode": {
    "name": "ipython",
    "version": 3
   },
   "file_extension": ".py",
   "mimetype": "text/x-python",
   "name": "python",
   "nbconvert_exporter": "python",
   "pygments_lexer": "ipython3",
   "version": "3.9.17"
  },
  "orig_nbformat": 4
 },
 "nbformat": 4,
 "nbformat_minor": 2
}
